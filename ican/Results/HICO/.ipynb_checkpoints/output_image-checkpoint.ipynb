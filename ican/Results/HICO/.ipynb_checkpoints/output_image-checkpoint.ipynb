{
 "cells": [
  {
   "cell_type": "code",
   "execution_count": 1,
   "metadata": {},
   "outputs": [],
   "source": [
    "import scipy.io as sio\n",
    "import os\n",
    "\n",
    "from PIL import Image, ImageDraw\n",
    "import cv2\n",
    "import matplotlib.pyplot as plt\n",
    "\n",
    "import numpy as np\n",
    "import pandas as pd\n",
    "\n",
    "import time\n",
    "from pathlib import Path\n",
    "\n",
    "action_list = pd.read_csv('~/HICO_rcnn/hico_det_dataset/action_list.csv')"
   ]
  },
  {
   "cell_type": "code",
   "execution_count": 5,
   "metadata": {},
   "outputs": [],
   "source": [
    "anno_bbox = sio.loadmat('160000_iCAN_ResNet50_HICO/detections_01.mat', squeeze_me=True)"
   ]
  },
  {
   "cell_type": "code",
   "execution_count": 11,
   "metadata": {},
   "outputs": [
    {
     "data": {
      "text/plain": [
       "7045"
      ]
     },
     "execution_count": 11,
     "metadata": {},
     "output_type": "execute_result"
    }
   ],
   "source": []
  },
  {
   "cell_type": "code",
   "execution_count": 4,
   "metadata": {},
   "outputs": [
    {
     "name": "stdout",
     "output_type": "stream",
     "text": [
      "102830\n"
     ]
    },
    {
     "data": {
      "text/plain": [
       "array([[array([223.82565308,  38.76403809, 478.63064575, 633.25756836]),\n",
       "        array([ 33.43659973, 135.73394775, 497.14624023, 536.94525146]),\n",
       "        4976, 0, 0.00013547025446314365],\n",
       "       [array([166.54071045,   0.        , 293.87533569, 419.82440186]),\n",
       "        array([108.58796692,  20.6927948 , 524.66137695, 378.02270508]),\n",
       "        7207, 0, 0.00011032101610908285],\n",
       "       [array([318.80194092, 109.8994751 , 636.89898682, 621.55236816]),\n",
       "        array([ 20.0718689 ,  86.16390991, 606.80700684, 613.25500488]),\n",
       "        37, 0, 0.00010976884368574247],\n",
       "       ...,\n",
       "       [array([501.4616394 , 318.02044678, 517.3760376 , 330.69769287]),\n",
       "        array([ 44.08088684, 356.60543823,  68.03229523, 415.68557739]),\n",
       "        1365, 13, 7.643780577382131e-07],\n",
       "       [array([325.26043701, 306.89505005, 341.01330566, 322.6635437 ]),\n",
       "        array([ 44.08088684, 356.60543823,  68.03229523, 415.68557739]),\n",
       "        1365, 13, 6.290696319410927e-07],\n",
       "       [array([270.32766724, 314.43972778, 282.30441284, 326.24801636]),\n",
       "        array([ 44.08088684, 356.60543823,  68.03229523, 415.68557739]),\n",
       "        1365, 13, 5.114586656418396e-07]], dtype=object)"
      ]
     },
     "execution_count": 4,
     "metadata": {},
     "output_type": "execute_result"
    }
   ],
   "source": [
    "# image = cv2.imread('/home/jovyan/hico_20160224_det/images/test2015/HICO_test2015_00009734.jpg')\n",
    "# print(image)\n",
    "# plt.imshow(image)\n",
    "# cv2.imshow(\"windows_name\",image)\n",
    "print(len(anno_bbox['all_boxes']))\n",
    "anno_bbox['all_boxes']"
   ]
  },
  {
   "cell_type": "code",
   "execution_count": 6,
   "metadata": {},
   "outputs": [],
   "source": [
    "def generate_file_name(number):\n",
    "    str_size = len(str(number))\n",
    "    add_sero_number = 4-str_size\n",
    "    name = '/home/jovyan/iCAN/Data/hico_20160224_det/images/test2015/HICO_test2015_0000' + '0' * add_sero_number + str(number) + '.jpg'\n",
    "    return name"
   ]
  },
  {
   "cell_type": "code",
   "execution_count": 14,
   "metadata": {},
   "outputs": [
    {
     "name": "stdout",
     "output_type": "stream",
     "text": [
      "pet   zebra\n"
     ]
    }
   ],
   "source": [
    "obj_list = action_list['object']\n",
    "verb_list = action_list['verb']\n",
    "nnn = 597\n",
    "print(verb_list[nnn], ' ', obj_list[nnn])"
   ]
  },
  {
   "cell_type": "code",
   "execution_count": 15,
   "metadata": {},
   "outputs": [
    {
     "name": "stdout",
     "output_type": "stream",
     "text": [
      "/home/jovyan/iCAN/Data/hico_20160224_det/images/test2015/HICO_test2015_00003810.jpg\n",
      "humna:  [ 76.80909729  18.88301086 435.58612061 422.18682861]\n",
      "object:  [295.24694824  22.56091309 616.56054688 416.58569336]\n",
      "exit airplane\n",
      "/home/jovyan/iCAN/Data/hico_20160224_det/images/test2015/HICO_test2015_00003810.jpg\n",
      "humna:  [295.24694824  22.56091309 616.56054688 416.58569336]\n",
      "object:  [ 76.80909729  18.88301086 435.58612061 422.18682861]\n",
      "exit airplane\n",
      "/home/jovyan/iCAN/Data/hico_20160224_det/images/test2015/HICO_test2015_00004772.jpg\n",
      "humna:  [286.0958252   67.08676147 553.7756958  418.03250122]\n",
      "object:  [115.13360596  30.15515137 402.59777832 420.30303955]\n",
      "exit airplane\n",
      "/home/jovyan/iCAN/Data/hico_20160224_det/images/test2015/HICO_test2015_00006219.jpg\n",
      "humna:  [279.04296875 211.03834534 474.64611816 539.8862915 ]\n",
      "object:  [177.0038147  235.2869873  369.3366394  531.90826416]\n"
     ]
    },
    {
     "ename": "TypeError",
     "evalue": "function takes exactly 1 argument (3 given)",
     "output_type": "error",
     "traceback": [
      "\u001b[0;31m---------------------------------------------------------------------------\u001b[0m",
      "\u001b[0;31mTypeError\u001b[0m                                 Traceback (most recent call last)",
      "\u001b[0;32m<ipython-input-15-132aa1857af2>\u001b[0m in \u001b[0;36m<module>\u001b[0;34m()\u001b[0m\n\u001b[1;32m     13\u001b[0m         \u001b[0mh_y1\u001b[0m \u001b[0;34m=\u001b[0m \u001b[0minfo\u001b[0m\u001b[0;34m[\u001b[0m\u001b[0;36m0\u001b[0m\u001b[0;34m]\u001b[0m\u001b[0;34m[\u001b[0m\u001b[0;36m2\u001b[0m\u001b[0;34m]\u001b[0m\u001b[0;34m\u001b[0m\u001b[0m\n\u001b[1;32m     14\u001b[0m         \u001b[0mh_y2\u001b[0m \u001b[0;34m=\u001b[0m \u001b[0minfo\u001b[0m\u001b[0;34m[\u001b[0m\u001b[0;36m0\u001b[0m\u001b[0;34m]\u001b[0m\u001b[0;34m[\u001b[0m\u001b[0;36m3\u001b[0m\u001b[0;34m]\u001b[0m\u001b[0;34m\u001b[0m\u001b[0m\n\u001b[0;32m---> 15\u001b[0;31m         \u001b[0mdraw\u001b[0m\u001b[0;34m.\u001b[0m\u001b[0mline\u001b[0m\u001b[0;34m(\u001b[0m\u001b[0mxy\u001b[0m\u001b[0;34m=\u001b[0m\u001b[0;34m[\u001b[0m\u001b[0;34m(\u001b[0m\u001b[0mh_x1\u001b[0m\u001b[0;34m,\u001b[0m \u001b[0mh_y1\u001b[0m\u001b[0;34m)\u001b[0m\u001b[0;34m,\u001b[0m\u001b[0;34m(\u001b[0m\u001b[0mh_x2\u001b[0m\u001b[0;34m,\u001b[0m \u001b[0mh_y1\u001b[0m\u001b[0;34m)\u001b[0m\u001b[0;34m,\u001b[0m\u001b[0;34m(\u001b[0m\u001b[0mh_x2\u001b[0m\u001b[0;34m,\u001b[0m \u001b[0mh_y2\u001b[0m\u001b[0;34m)\u001b[0m\u001b[0;34m,\u001b[0m\u001b[0;34m(\u001b[0m\u001b[0mh_x1\u001b[0m\u001b[0;34m,\u001b[0m \u001b[0mh_y2\u001b[0m\u001b[0;34m)\u001b[0m\u001b[0;34m,\u001b[0m\u001b[0;34m(\u001b[0m\u001b[0mh_x1\u001b[0m\u001b[0;34m,\u001b[0m \u001b[0mh_y1\u001b[0m\u001b[0;34m)\u001b[0m\u001b[0;34m]\u001b[0m\u001b[0;34m,\u001b[0m \u001b[0mwidth\u001b[0m \u001b[0;34m=\u001b[0m \u001b[0;36m1\u001b[0m\u001b[0;34m,\u001b[0m \u001b[0mfill\u001b[0m \u001b[0;34m=\u001b[0m \u001b[0;34m(\u001b[0m\u001b[0;36m0\u001b[0m\u001b[0;34m,\u001b[0m \u001b[0;36m256\u001b[0m\u001b[0;34m,\u001b[0m \u001b[0;36m256\u001b[0m\u001b[0;34m)\u001b[0m\u001b[0;34m)\u001b[0m\u001b[0;34m\u001b[0m\u001b[0m\n\u001b[0m\u001b[1;32m     16\u001b[0m \u001b[0;34m\u001b[0m\u001b[0m\n\u001b[1;32m     17\u001b[0m         \u001b[0;31m# object\u001b[0m\u001b[0;34m\u001b[0m\u001b[0;34m\u001b[0m\u001b[0m\n",
      "\u001b[0;32m/opt/conda/lib/python3.6/site-packages/PIL/ImageDraw.py\u001b[0m in \u001b[0;36mline\u001b[0;34m(self, xy, fill, width, joint)\u001b[0m\n\u001b[1;32m    153\u001b[0m     \u001b[0;32mdef\u001b[0m \u001b[0mline\u001b[0m\u001b[0;34m(\u001b[0m\u001b[0mself\u001b[0m\u001b[0;34m,\u001b[0m \u001b[0mxy\u001b[0m\u001b[0;34m,\u001b[0m \u001b[0mfill\u001b[0m\u001b[0;34m=\u001b[0m\u001b[0;32mNone\u001b[0m\u001b[0;34m,\u001b[0m \u001b[0mwidth\u001b[0m\u001b[0;34m=\u001b[0m\u001b[0;36m0\u001b[0m\u001b[0;34m,\u001b[0m \u001b[0mjoint\u001b[0m\u001b[0;34m=\u001b[0m\u001b[0;32mNone\u001b[0m\u001b[0;34m)\u001b[0m\u001b[0;34m:\u001b[0m\u001b[0;34m\u001b[0m\u001b[0m\n\u001b[1;32m    154\u001b[0m         \u001b[0;34m\"\"\"Draw a line, or a connected sequence of line segments.\"\"\"\u001b[0m\u001b[0;34m\u001b[0m\u001b[0m\n\u001b[0;32m--> 155\u001b[0;31m         \u001b[0mink\u001b[0m \u001b[0;34m=\u001b[0m \u001b[0mself\u001b[0m\u001b[0;34m.\u001b[0m\u001b[0m_getink\u001b[0m\u001b[0;34m(\u001b[0m\u001b[0mfill\u001b[0m\u001b[0;34m)\u001b[0m\u001b[0;34m[\u001b[0m\u001b[0;36m0\u001b[0m\u001b[0;34m]\u001b[0m\u001b[0;34m\u001b[0m\u001b[0m\n\u001b[0m\u001b[1;32m    156\u001b[0m         \u001b[0;32mif\u001b[0m \u001b[0mink\u001b[0m \u001b[0;32mis\u001b[0m \u001b[0;32mnot\u001b[0m \u001b[0;32mNone\u001b[0m\u001b[0;34m:\u001b[0m\u001b[0;34m\u001b[0m\u001b[0m\n\u001b[1;32m    157\u001b[0m             \u001b[0mself\u001b[0m\u001b[0;34m.\u001b[0m\u001b[0mdraw\u001b[0m\u001b[0;34m.\u001b[0m\u001b[0mdraw_lines\u001b[0m\u001b[0;34m(\u001b[0m\u001b[0mxy\u001b[0m\u001b[0;34m,\u001b[0m \u001b[0mink\u001b[0m\u001b[0;34m,\u001b[0m \u001b[0mwidth\u001b[0m\u001b[0;34m)\u001b[0m\u001b[0;34m\u001b[0m\u001b[0m\n",
      "\u001b[0;32m/opt/conda/lib/python3.6/site-packages/PIL/ImageDraw.py\u001b[0m in \u001b[0;36m_getink\u001b[0;34m(self, ink, fill)\u001b[0m\n\u001b[1;32m    111\u001b[0m                 \u001b[0;32mif\u001b[0m \u001b[0mself\u001b[0m\u001b[0;34m.\u001b[0m\u001b[0mpalette\u001b[0m \u001b[0;32mand\u001b[0m \u001b[0;32mnot\u001b[0m \u001b[0misinstance\u001b[0m\u001b[0;34m(\u001b[0m\u001b[0mink\u001b[0m\u001b[0;34m,\u001b[0m \u001b[0mnumbers\u001b[0m\u001b[0;34m.\u001b[0m\u001b[0mNumber\u001b[0m\u001b[0;34m)\u001b[0m\u001b[0;34m:\u001b[0m\u001b[0;34m\u001b[0m\u001b[0m\n\u001b[1;32m    112\u001b[0m                     \u001b[0mink\u001b[0m \u001b[0;34m=\u001b[0m \u001b[0mself\u001b[0m\u001b[0;34m.\u001b[0m\u001b[0mpalette\u001b[0m\u001b[0;34m.\u001b[0m\u001b[0mgetcolor\u001b[0m\u001b[0;34m(\u001b[0m\u001b[0mink\u001b[0m\u001b[0;34m)\u001b[0m\u001b[0;34m\u001b[0m\u001b[0m\n\u001b[0;32m--> 113\u001b[0;31m                 \u001b[0mink\u001b[0m \u001b[0;34m=\u001b[0m \u001b[0mself\u001b[0m\u001b[0;34m.\u001b[0m\u001b[0mdraw\u001b[0m\u001b[0;34m.\u001b[0m\u001b[0mdraw_ink\u001b[0m\u001b[0;34m(\u001b[0m\u001b[0mink\u001b[0m\u001b[0;34m,\u001b[0m \u001b[0mself\u001b[0m\u001b[0;34m.\u001b[0m\u001b[0mmode\u001b[0m\u001b[0;34m)\u001b[0m\u001b[0;34m\u001b[0m\u001b[0m\n\u001b[0m\u001b[1;32m    114\u001b[0m             \u001b[0;32mif\u001b[0m \u001b[0mfill\u001b[0m \u001b[0;32mis\u001b[0m \u001b[0;32mnot\u001b[0m \u001b[0;32mNone\u001b[0m\u001b[0;34m:\u001b[0m\u001b[0;34m\u001b[0m\u001b[0m\n\u001b[1;32m    115\u001b[0m                 \u001b[0;32mif\u001b[0m \u001b[0misStringType\u001b[0m\u001b[0;34m(\u001b[0m\u001b[0mfill\u001b[0m\u001b[0;34m)\u001b[0m\u001b[0;34m:\u001b[0m\u001b[0;34m\u001b[0m\u001b[0m\n",
      "\u001b[0;31mTypeError\u001b[0m: function takes exactly 1 argument (3 given)"
     ]
    }
   ],
   "source": [
    "for info in anno_bbox['all_boxes']:\n",
    "    \n",
    "    if info[-1] > 0.5:\n",
    "        image = Image.open(generate_file_name(info[2]))\n",
    "        print(generate_file_name(info[2]))\n",
    "        print('humna: ', info[0])\n",
    "        print('object: ', info[1])\n",
    "        draw =ImageDraw.Draw(image)\n",
    "        \n",
    "        # human\n",
    "        h_x1 = info[0][0]\n",
    "        h_x2 = info[0][1]\n",
    "        h_y1 = info[0][2]\n",
    "        h_y2 = info[0][3]\n",
    "        draw.rectangle(((h_x1, h_y1),(h_x2, h_y2)), width = 1, fill = (0, 256, 256))\n",
    "        \n",
    "        # object\n",
    "        o_x1 = info[1][0]\n",
    "        o_x2 = info[1][1]\n",
    "        o_y1 = info[1][2]\n",
    "        o_y2 = info[1][3]\n",
    "        draw.rectangle(((o_x1, o_y1),(o_x2, o_y2)), width = 1, fill = (0, 256, 0))\n",
    "        print(verb_list[info[3]] + ' ' + obj_list[info[3]])\n",
    "        draw.text((10,10), verb_list[info[3]] + ' ' + obj_list[info[3]])\n",
    "#         image.show()\n",
    "        image.save( str(info[2]) + '.jpg', \"JPEG\" )\n",
    "        "
   ]
  },
  {
   "cell_type": "code",
   "execution_count": null,
   "metadata": {},
   "outputs": [],
   "source": []
  }
 ],
 "metadata": {
  "kernelspec": {
   "display_name": "Python 3",
   "language": "python",
   "name": "python3"
  },
  "language_info": {
   "codemirror_mode": {
    "name": "ipython",
    "version": 3
   },
   "file_extension": ".py",
   "mimetype": "text/x-python",
   "name": "python",
   "nbconvert_exporter": "python",
   "pygments_lexer": "ipython3",
   "version": "3.6.6"
  }
 },
 "nbformat": 4,
 "nbformat_minor": 2
}
